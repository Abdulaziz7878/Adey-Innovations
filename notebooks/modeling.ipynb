{
 "cells": [
  {
   "cell_type": "code",
   "execution_count": 2,
   "metadata": {},
   "outputs": [],
   "source": [
    "import pandas as pd\n",
    "import numpy as np\n",
    "import mlflow\n",
    "import mlflow.sklearn\n",
    "from sklearn.model_selection import train_test_split\n",
    "from sklearn.linear_model import LogisticRegression\n",
    "from sklearn.tree import DecisionTreeClassifier\n",
    "from sklearn.ensemble import RandomForestClassifier, GradientBoostingClassifier\n",
    "from sklearn.neural_network import MLPClassifier\n",
    "from sklearn.metrics import classification_report, accuracy_score, precision_score, recall_score, f1_score\n",
    "from sklearn.impute import SimpleImputer\n",
    "from tensorflow.keras.models import Sequential\n",
    "from tensorflow.keras.layers import Conv1D, MaxPooling1D, Flatten, Dense, SimpleRNN, LSTM"
   ]
  },
  {
   "cell_type": "code",
   "execution_count": 3,
   "metadata": {},
   "outputs": [],
   "source": [
    "df_fraud=pd.read_csv('../Data/preprocessed.csv')\n",
    "df_credit=pd.read_csv('../Data/credit_card_clean.csv')"
   ]
  },
  {
   "cell_type": "code",
   "execution_count": 4,
   "metadata": {},
   "outputs": [
    {
     "data": {
      "text/html": [
       "<div>\n",
       "<style scoped>\n",
       "    .dataframe tbody tr th:only-of-type {\n",
       "        vertical-align: middle;\n",
       "    }\n",
       "\n",
       "    .dataframe tbody tr th {\n",
       "        vertical-align: top;\n",
       "    }\n",
       "\n",
       "    .dataframe thead th {\n",
       "        text-align: right;\n",
       "    }\n",
       "</style>\n",
       "<table border=\"1\" class=\"dataframe\">\n",
       "  <thead>\n",
       "    <tr style=\"text-align: right;\">\n",
       "      <th></th>\n",
       "      <th>Time</th>\n",
       "      <th>V1</th>\n",
       "      <th>V2</th>\n",
       "      <th>V3</th>\n",
       "      <th>V4</th>\n",
       "      <th>V5</th>\n",
       "      <th>V6</th>\n",
       "      <th>V7</th>\n",
       "      <th>V8</th>\n",
       "      <th>V9</th>\n",
       "      <th>...</th>\n",
       "      <th>V21</th>\n",
       "      <th>V22</th>\n",
       "      <th>V23</th>\n",
       "      <th>V24</th>\n",
       "      <th>V25</th>\n",
       "      <th>V26</th>\n",
       "      <th>V27</th>\n",
       "      <th>V28</th>\n",
       "      <th>Amount</th>\n",
       "      <th>Class</th>\n",
       "    </tr>\n",
       "  </thead>\n",
       "  <tbody>\n",
       "    <tr>\n",
       "      <th>0</th>\n",
       "      <td>0.0</td>\n",
       "      <td>-1.359807</td>\n",
       "      <td>-0.072781</td>\n",
       "      <td>2.536347</td>\n",
       "      <td>1.378155</td>\n",
       "      <td>-0.338321</td>\n",
       "      <td>0.462388</td>\n",
       "      <td>0.239599</td>\n",
       "      <td>0.098698</td>\n",
       "      <td>0.363787</td>\n",
       "      <td>...</td>\n",
       "      <td>-0.018307</td>\n",
       "      <td>0.277838</td>\n",
       "      <td>-0.110474</td>\n",
       "      <td>0.066928</td>\n",
       "      <td>0.128539</td>\n",
       "      <td>-0.189115</td>\n",
       "      <td>0.133558</td>\n",
       "      <td>-0.021053</td>\n",
       "      <td>149.62</td>\n",
       "      <td>0</td>\n",
       "    </tr>\n",
       "    <tr>\n",
       "      <th>1</th>\n",
       "      <td>0.0</td>\n",
       "      <td>1.191857</td>\n",
       "      <td>0.266151</td>\n",
       "      <td>0.166480</td>\n",
       "      <td>0.448154</td>\n",
       "      <td>0.060018</td>\n",
       "      <td>-0.082361</td>\n",
       "      <td>-0.078803</td>\n",
       "      <td>0.085102</td>\n",
       "      <td>-0.255425</td>\n",
       "      <td>...</td>\n",
       "      <td>-0.225775</td>\n",
       "      <td>-0.638672</td>\n",
       "      <td>0.101288</td>\n",
       "      <td>-0.339846</td>\n",
       "      <td>0.167170</td>\n",
       "      <td>0.125895</td>\n",
       "      <td>-0.008983</td>\n",
       "      <td>0.014724</td>\n",
       "      <td>2.69</td>\n",
       "      <td>0</td>\n",
       "    </tr>\n",
       "    <tr>\n",
       "      <th>2</th>\n",
       "      <td>1.0</td>\n",
       "      <td>-1.358354</td>\n",
       "      <td>-1.340163</td>\n",
       "      <td>1.773209</td>\n",
       "      <td>0.379780</td>\n",
       "      <td>-0.503198</td>\n",
       "      <td>1.800499</td>\n",
       "      <td>0.791461</td>\n",
       "      <td>0.247676</td>\n",
       "      <td>-1.514654</td>\n",
       "      <td>...</td>\n",
       "      <td>0.247998</td>\n",
       "      <td>0.771679</td>\n",
       "      <td>0.909412</td>\n",
       "      <td>-0.689281</td>\n",
       "      <td>-0.327642</td>\n",
       "      <td>-0.139097</td>\n",
       "      <td>-0.055353</td>\n",
       "      <td>-0.059752</td>\n",
       "      <td>378.66</td>\n",
       "      <td>0</td>\n",
       "    </tr>\n",
       "    <tr>\n",
       "      <th>3</th>\n",
       "      <td>1.0</td>\n",
       "      <td>-0.966272</td>\n",
       "      <td>-0.185226</td>\n",
       "      <td>1.792993</td>\n",
       "      <td>-0.863291</td>\n",
       "      <td>-0.010309</td>\n",
       "      <td>1.247203</td>\n",
       "      <td>0.237609</td>\n",
       "      <td>0.377436</td>\n",
       "      <td>-1.387024</td>\n",
       "      <td>...</td>\n",
       "      <td>-0.108300</td>\n",
       "      <td>0.005274</td>\n",
       "      <td>-0.190321</td>\n",
       "      <td>-1.175575</td>\n",
       "      <td>0.647376</td>\n",
       "      <td>-0.221929</td>\n",
       "      <td>0.062723</td>\n",
       "      <td>0.061458</td>\n",
       "      <td>123.50</td>\n",
       "      <td>0</td>\n",
       "    </tr>\n",
       "    <tr>\n",
       "      <th>4</th>\n",
       "      <td>2.0</td>\n",
       "      <td>-1.158233</td>\n",
       "      <td>0.877737</td>\n",
       "      <td>1.548718</td>\n",
       "      <td>0.403034</td>\n",
       "      <td>-0.407193</td>\n",
       "      <td>0.095921</td>\n",
       "      <td>0.592941</td>\n",
       "      <td>-0.270533</td>\n",
       "      <td>0.817739</td>\n",
       "      <td>...</td>\n",
       "      <td>-0.009431</td>\n",
       "      <td>0.798278</td>\n",
       "      <td>-0.137458</td>\n",
       "      <td>0.141267</td>\n",
       "      <td>-0.206010</td>\n",
       "      <td>0.502292</td>\n",
       "      <td>0.219422</td>\n",
       "      <td>0.215153</td>\n",
       "      <td>69.99</td>\n",
       "      <td>0</td>\n",
       "    </tr>\n",
       "  </tbody>\n",
       "</table>\n",
       "<p>5 rows × 31 columns</p>\n",
       "</div>"
      ],
      "text/plain": [
       "   Time        V1        V2        V3        V4        V5        V6        V7  \\\n",
       "0   0.0 -1.359807 -0.072781  2.536347  1.378155 -0.338321  0.462388  0.239599   \n",
       "1   0.0  1.191857  0.266151  0.166480  0.448154  0.060018 -0.082361 -0.078803   \n",
       "2   1.0 -1.358354 -1.340163  1.773209  0.379780 -0.503198  1.800499  0.791461   \n",
       "3   1.0 -0.966272 -0.185226  1.792993 -0.863291 -0.010309  1.247203  0.237609   \n",
       "4   2.0 -1.158233  0.877737  1.548718  0.403034 -0.407193  0.095921  0.592941   \n",
       "\n",
       "         V8        V9  ...       V21       V22       V23       V24       V25  \\\n",
       "0  0.098698  0.363787  ... -0.018307  0.277838 -0.110474  0.066928  0.128539   \n",
       "1  0.085102 -0.255425  ... -0.225775 -0.638672  0.101288 -0.339846  0.167170   \n",
       "2  0.247676 -1.514654  ...  0.247998  0.771679  0.909412 -0.689281 -0.327642   \n",
       "3  0.377436 -1.387024  ... -0.108300  0.005274 -0.190321 -1.175575  0.647376   \n",
       "4 -0.270533  0.817739  ... -0.009431  0.798278 -0.137458  0.141267 -0.206010   \n",
       "\n",
       "        V26       V27       V28  Amount  Class  \n",
       "0 -0.189115  0.133558 -0.021053  149.62      0  \n",
       "1  0.125895 -0.008983  0.014724    2.69      0  \n",
       "2 -0.139097 -0.055353 -0.059752  378.66      0  \n",
       "3 -0.221929  0.062723  0.061458  123.50      0  \n",
       "4  0.502292  0.219422  0.215153   69.99      0  \n",
       "\n",
       "[5 rows x 31 columns]"
      ]
     },
     "execution_count": 4,
     "metadata": {},
     "output_type": "execute_result"
    }
   ],
   "source": [
    "df_credit.head()"
   ]
  },
  {
   "cell_type": "code",
   "execution_count": 5,
   "metadata": {},
   "outputs": [
    {
     "data": {
      "text/html": [
       "<div>\n",
       "<style scoped>\n",
       "    .dataframe tbody tr th:only-of-type {\n",
       "        vertical-align: middle;\n",
       "    }\n",
       "\n",
       "    .dataframe tbody tr th {\n",
       "        vertical-align: top;\n",
       "    }\n",
       "\n",
       "    .dataframe thead th {\n",
       "        text-align: right;\n",
       "    }\n",
       "</style>\n",
       "<table border=\"1\" class=\"dataframe\">\n",
       "  <thead>\n",
       "    <tr style=\"text-align: right;\">\n",
       "      <th></th>\n",
       "      <th>user_id</th>\n",
       "      <th>signup_time</th>\n",
       "      <th>purchase_time</th>\n",
       "      <th>purchase_value</th>\n",
       "      <th>device_id</th>\n",
       "      <th>age</th>\n",
       "      <th>ip_address</th>\n",
       "      <th>class</th>\n",
       "      <th>hour_of_day</th>\n",
       "      <th>day_of_week</th>\n",
       "      <th>...</th>\n",
       "      <th>country_United States</th>\n",
       "      <th>country_Uruguay</th>\n",
       "      <th>country_Uzbekistan</th>\n",
       "      <th>country_Vanuatu</th>\n",
       "      <th>country_Venezuela</th>\n",
       "      <th>country_Viet Nam</th>\n",
       "      <th>country_Virgin Islands (U.S.)</th>\n",
       "      <th>country_Yemen</th>\n",
       "      <th>country_Zambia</th>\n",
       "      <th>country_Zimbabwe</th>\n",
       "    </tr>\n",
       "  </thead>\n",
       "  <tbody>\n",
       "    <tr>\n",
       "      <th>0</th>\n",
       "      <td>2</td>\n",
       "      <td>2015-01-11 03:47:13</td>\n",
       "      <td>2015-02-21 10:03:37</td>\n",
       "      <td>0.310345</td>\n",
       "      <td>FGBQNDNBETFJJ</td>\n",
       "      <td>0.120690</td>\n",
       "      <td>880217484</td>\n",
       "      <td>0</td>\n",
       "      <td>10</td>\n",
       "      <td>5</td>\n",
       "      <td>...</td>\n",
       "      <td>1.0</td>\n",
       "      <td>0.0</td>\n",
       "      <td>0.0</td>\n",
       "      <td>0.0</td>\n",
       "      <td>0.0</td>\n",
       "      <td>0.0</td>\n",
       "      <td>0.0</td>\n",
       "      <td>0.0</td>\n",
       "      <td>0.0</td>\n",
       "      <td>0.0</td>\n",
       "    </tr>\n",
       "    <tr>\n",
       "      <th>1</th>\n",
       "      <td>4</td>\n",
       "      <td>2015-06-02 16:40:57</td>\n",
       "      <td>2015-09-26 21:32:16</td>\n",
       "      <td>0.220690</td>\n",
       "      <td>MKFUIVOHLJBYN</td>\n",
       "      <td>0.344828</td>\n",
       "      <td>2785906106</td>\n",
       "      <td>0</td>\n",
       "      <td>21</td>\n",
       "      <td>5</td>\n",
       "      <td>...</td>\n",
       "      <td>0.0</td>\n",
       "      <td>0.0</td>\n",
       "      <td>0.0</td>\n",
       "      <td>0.0</td>\n",
       "      <td>0.0</td>\n",
       "      <td>0.0</td>\n",
       "      <td>0.0</td>\n",
       "      <td>0.0</td>\n",
       "      <td>0.0</td>\n",
       "      <td>0.0</td>\n",
       "    </tr>\n",
       "    <tr>\n",
       "      <th>2</th>\n",
       "      <td>8</td>\n",
       "      <td>2015-05-28 07:53:06</td>\n",
       "      <td>2015-08-13 11:53:07</td>\n",
       "      <td>0.262069</td>\n",
       "      <td>SCQGQALXBUQZJ</td>\n",
       "      <td>0.120690</td>\n",
       "      <td>356056736</td>\n",
       "      <td>0</td>\n",
       "      <td>11</td>\n",
       "      <td>3</td>\n",
       "      <td>...</td>\n",
       "      <td>1.0</td>\n",
       "      <td>0.0</td>\n",
       "      <td>0.0</td>\n",
       "      <td>0.0</td>\n",
       "      <td>0.0</td>\n",
       "      <td>0.0</td>\n",
       "      <td>0.0</td>\n",
       "      <td>0.0</td>\n",
       "      <td>0.0</td>\n",
       "      <td>0.0</td>\n",
       "    </tr>\n",
       "    <tr>\n",
       "      <th>3</th>\n",
       "      <td>12</td>\n",
       "      <td>2015-01-10 06:25:12</td>\n",
       "      <td>2015-03-04 20:56:37</td>\n",
       "      <td>0.179310</td>\n",
       "      <td>MSNWCFEHKTIOY</td>\n",
       "      <td>0.017241</td>\n",
       "      <td>2985180352</td>\n",
       "      <td>0</td>\n",
       "      <td>20</td>\n",
       "      <td>2</td>\n",
       "      <td>...</td>\n",
       "      <td>0.0</td>\n",
       "      <td>0.0</td>\n",
       "      <td>0.0</td>\n",
       "      <td>0.0</td>\n",
       "      <td>0.0</td>\n",
       "      <td>0.0</td>\n",
       "      <td>0.0</td>\n",
       "      <td>0.0</td>\n",
       "      <td>0.0</td>\n",
       "      <td>0.0</td>\n",
       "    </tr>\n",
       "    <tr>\n",
       "      <th>4</th>\n",
       "      <td>16</td>\n",
       "      <td>2015-02-03 13:48:23</td>\n",
       "      <td>2015-03-12 12:46:23</td>\n",
       "      <td>0.000000</td>\n",
       "      <td>FROZWSSWOHZBE</td>\n",
       "      <td>0.241379</td>\n",
       "      <td>578312545</td>\n",
       "      <td>0</td>\n",
       "      <td>12</td>\n",
       "      <td>3</td>\n",
       "      <td>...</td>\n",
       "      <td>1.0</td>\n",
       "      <td>0.0</td>\n",
       "      <td>0.0</td>\n",
       "      <td>0.0</td>\n",
       "      <td>0.0</td>\n",
       "      <td>0.0</td>\n",
       "      <td>0.0</td>\n",
       "      <td>0.0</td>\n",
       "      <td>0.0</td>\n",
       "      <td>0.0</td>\n",
       "    </tr>\n",
       "  </tbody>\n",
       "</table>\n",
       "<p>5 rows × 204 columns</p>\n",
       "</div>"
      ],
      "text/plain": [
       "   user_id          signup_time        purchase_time  purchase_value  \\\n",
       "0        2  2015-01-11 03:47:13  2015-02-21 10:03:37        0.310345   \n",
       "1        4  2015-06-02 16:40:57  2015-09-26 21:32:16        0.220690   \n",
       "2        8  2015-05-28 07:53:06  2015-08-13 11:53:07        0.262069   \n",
       "3       12  2015-01-10 06:25:12  2015-03-04 20:56:37        0.179310   \n",
       "4       16  2015-02-03 13:48:23  2015-03-12 12:46:23        0.000000   \n",
       "\n",
       "       device_id       age  ip_address  class  hour_of_day  day_of_week  ...  \\\n",
       "0  FGBQNDNBETFJJ  0.120690   880217484      0           10            5  ...   \n",
       "1  MKFUIVOHLJBYN  0.344828  2785906106      0           21            5  ...   \n",
       "2  SCQGQALXBUQZJ  0.120690   356056736      0           11            3  ...   \n",
       "3  MSNWCFEHKTIOY  0.017241  2985180352      0           20            2  ...   \n",
       "4  FROZWSSWOHZBE  0.241379   578312545      0           12            3  ...   \n",
       "\n",
       "   country_United States  country_Uruguay  country_Uzbekistan  \\\n",
       "0                    1.0              0.0                 0.0   \n",
       "1                    0.0              0.0                 0.0   \n",
       "2                    1.0              0.0                 0.0   \n",
       "3                    0.0              0.0                 0.0   \n",
       "4                    1.0              0.0                 0.0   \n",
       "\n",
       "   country_Vanuatu  country_Venezuela  country_Viet Nam  \\\n",
       "0              0.0                0.0               0.0   \n",
       "1              0.0                0.0               0.0   \n",
       "2              0.0                0.0               0.0   \n",
       "3              0.0                0.0               0.0   \n",
       "4              0.0                0.0               0.0   \n",
       "\n",
       "   country_Virgin Islands (U.S.)  country_Yemen  country_Zambia  \\\n",
       "0                            0.0            0.0             0.0   \n",
       "1                            0.0            0.0             0.0   \n",
       "2                            0.0            0.0             0.0   \n",
       "3                            0.0            0.0             0.0   \n",
       "4                            0.0            0.0             0.0   \n",
       "\n",
       "   country_Zimbabwe  \n",
       "0               0.0  \n",
       "1               0.0  \n",
       "2               0.0  \n",
       "3               0.0  \n",
       "4               0.0  \n",
       "\n",
       "[5 rows x 204 columns]"
      ]
     },
     "execution_count": 5,
     "metadata": {},
     "output_type": "execute_result"
    }
   ],
   "source": [
    "df_fraud.head()"
   ]
  },
  {
   "cell_type": "code",
   "execution_count": 6,
   "metadata": {},
   "outputs": [],
   "source": [
    "def preprocess_fraud_data(df):\n",
    "    df['signup_time'] = pd.to_datetime(df['signup_time'])\n",
    "    df['purchase_time'] = pd.to_datetime(df['purchase_time'])\n",
    "    df = df.drop(['signup_time', 'purchase_time', 'user_id', 'device_id'], axis=1)\n",
    "    return df\n",
    "\n",
    "df_fraud = preprocess_fraud_data(df_fraud)"
   ]
  },
  {
   "cell_type": "code",
   "execution_count": 7,
   "metadata": {},
   "outputs": [],
   "source": [
    "# Impute missing values\n",
    "imputer = SimpleImputer(strategy='mean')\n",
    "df_fraud = pd.DataFrame(imputer.fit_transform(df_fraud), columns=df_fraud.columns)\n",
    "df_credit = pd.DataFrame(imputer.fit_transform(df_credit), columns=df_credit.columns)"
   ]
  },
  {
   "cell_type": "code",
   "execution_count": 8,
   "metadata": {},
   "outputs": [],
   "source": [
    "# Ensure target variables are binary\n",
    "df_fraud['class'] = df_fraud['class'].astype(int)\n",
    "df_credit['Class'] = df_credit['Class'].astype(int)"
   ]
  },
  {
   "cell_type": "code",
   "execution_count": 9,
   "metadata": {},
   "outputs": [],
   "source": [
    "# Separate features and target for Fraud_Data\n",
    "X_fraud = df_fraud.drop('class', axis=1)\n",
    "y_fraud = df_fraud['class']\n",
    "\n",
    "# Separate features and target for creditcard data\n",
    "X_credit = df_credit.drop('Class', axis=1)\n",
    "y_credit = df_credit['Class']\n",
    "\n",
    "# Train-test split for Fraud_Data\n",
    "X_fraud_train, X_fraud_test, y_fraud_train, y_fraud_test = train_test_split(X_fraud, y_fraud, test_size=0.3, random_state=42)\n",
    "\n",
    "# Train-test split for creditcard data\n",
    "X_credit_train, X_credit_test, y_credit_train, y_credit_test = train_test_split(X_credit, y_credit, test_size=0.3, random_state=42)"
   ]
  },
  {
   "cell_type": "code",
   "execution_count": 10,
   "metadata": {},
   "outputs": [],
   "source": [
    "# Model training and evaluation function\n",
    "def train_and_evaluate_model(model, X_train, y_train, X_test, y_test, model_name):\n",
    "    model.fit(X_train, y_train)\n",
    "    y_pred = model.predict(X_test)\n",
    "    print(f\"Performance of {model_name}:\")\n",
    "    print(classification_report(y_test, y_pred))\n",
    "\n",
    "    # Log model and metrics with MLflow\n",
    "    with mlflow.start_run():\n",
    "        mlflow.sklearn.log_model(model, model_name)\n",
    "        mlflow.log_param(\"model_type\", model_name)\n",
    "        mlflow.log_metric(\"accuracy\", accuracy_score(y_test, y_pred))\n",
    "        mlflow.log_metric(\"precision\", precision_score(y_test, y_pred))\n",
    "        mlflow.log_metric(\"recall\", recall_score(y_test, y_pred))\n",
    "        mlflow.log_metric(\"f1_score\", f1_score(y_test, y_pred))"
   ]
  },
  {
   "cell_type": "code",
   "execution_count": 11,
   "metadata": {},
   "outputs": [
    {
     "name": "stdout",
     "output_type": "stream",
     "text": [
      "Performance of Logistic Regression:\n"
     ]
    },
    {
     "name": "stderr",
     "output_type": "stream",
     "text": [
      "c:\\Users\\Abdulaziz\\Desktop\\10 Academy\\Adey Innovations\\week8\\Lib\\site-packages\\sklearn\\metrics\\_classification.py:1531: UndefinedMetricWarning: Precision is ill-defined and being set to 0.0 in labels with no predicted samples. Use `zero_division` parameter to control this behavior.\n",
      "  _warn_prf(average, modifier, f\"{metric.capitalize()} is\", len(result))\n",
      "c:\\Users\\Abdulaziz\\Desktop\\10 Academy\\Adey Innovations\\week8\\Lib\\site-packages\\sklearn\\metrics\\_classification.py:1531: UndefinedMetricWarning: Precision is ill-defined and being set to 0.0 in labels with no predicted samples. Use `zero_division` parameter to control this behavior.\n",
      "  _warn_prf(average, modifier, f\"{metric.capitalize()} is\", len(result))\n",
      "c:\\Users\\Abdulaziz\\Desktop\\10 Academy\\Adey Innovations\\week8\\Lib\\site-packages\\sklearn\\metrics\\_classification.py:1531: UndefinedMetricWarning: Precision is ill-defined and being set to 0.0 in labels with no predicted samples. Use `zero_division` parameter to control this behavior.\n",
      "  _warn_prf(average, modifier, f\"{metric.capitalize()} is\", len(result))\n"
     ]
    },
    {
     "name": "stdout",
     "output_type": "stream",
     "text": [
      "              precision    recall  f1-score   support\n",
      "\n",
      "           0       0.90      1.00      0.95     35044\n",
      "           1       0.00      0.00      0.00      3700\n",
      "\n",
      "    accuracy                           0.90     38744\n",
      "   macro avg       0.45      0.50      0.47     38744\n",
      "weighted avg       0.82      0.90      0.86     38744\n",
      "\n"
     ]
    },
    {
     "name": "stderr",
     "output_type": "stream",
     "text": [
      "2024/10/23 17:44:58 WARNING mlflow.models.model: Model logged without a signature and input example. Please set `input_example` parameter when logging the model to auto infer the model signature.\n",
      "c:\\Users\\Abdulaziz\\Desktop\\10 Academy\\Adey Innovations\\week8\\Lib\\site-packages\\sklearn\\metrics\\_classification.py:1531: UndefinedMetricWarning: Precision is ill-defined and being set to 0.0 due to no predicted samples. Use `zero_division` parameter to control this behavior.\n",
      "  _warn_prf(average, modifier, f\"{metric.capitalize()} is\", len(result))\n"
     ]
    }
   ],
   "source": [
    "# Logistic Regression\n",
    "log_reg_fraud = LogisticRegression()\n",
    "train_and_evaluate_model(log_reg_fraud, X_fraud_train, y_fraud_train, X_fraud_test, y_fraud_test, \"Logistic Regression\")"
   ]
  },
  {
   "cell_type": "code",
   "execution_count": 12,
   "metadata": {},
   "outputs": [
    {
     "name": "stderr",
     "output_type": "stream",
     "text": [
      "c:\\Users\\Abdulaziz\\Desktop\\10 Academy\\Adey Innovations\\week8\\Lib\\site-packages\\sklearn\\linear_model\\_logistic.py:469: ConvergenceWarning: lbfgs failed to converge (status=1):\n",
      "STOP: TOTAL NO. of ITERATIONS REACHED LIMIT.\n",
      "\n",
      "Increase the number of iterations (max_iter) or scale the data as shown in:\n",
      "    https://scikit-learn.org/stable/modules/preprocessing.html\n",
      "Please also refer to the documentation for alternative solver options:\n",
      "    https://scikit-learn.org/stable/modules/linear_model.html#logistic-regression\n",
      "  n_iter_i = _check_optimize_result(\n"
     ]
    },
    {
     "name": "stdout",
     "output_type": "stream",
     "text": [
      "Performance of Logistic Regression:\n",
      "              precision    recall  f1-score   support\n",
      "\n",
      "           0       1.00      1.00      1.00     84984\n",
      "           1       0.79      0.63      0.70       134\n",
      "\n",
      "    accuracy                           1.00     85118\n",
      "   macro avg       0.89      0.81      0.85     85118\n",
      "weighted avg       1.00      1.00      1.00     85118\n",
      "\n"
     ]
    },
    {
     "name": "stderr",
     "output_type": "stream",
     "text": [
      "2024/10/23 17:45:28 WARNING mlflow.models.model: Model logged without a signature and input example. Please set `input_example` parameter when logging the model to auto infer the model signature.\n"
     ]
    }
   ],
   "source": [
    "# Logistic Regression\n",
    "log_reg_credit = LogisticRegression()\n",
    "train_and_evaluate_model(log_reg_credit, X_credit_train, y_credit_train, X_credit_test, y_credit_test, \"Logistic Regression\")"
   ]
  },
  {
   "cell_type": "code",
   "execution_count": 13,
   "metadata": {},
   "outputs": [
    {
     "name": "stdout",
     "output_type": "stream",
     "text": [
      "Performance of Decision Tree:\n",
      "              precision    recall  f1-score   support\n",
      "\n",
      "           0       0.95      0.93      0.94     35044\n",
      "           1       0.48      0.57      0.52      3700\n",
      "\n",
      "    accuracy                           0.90     38744\n",
      "   macro avg       0.72      0.75      0.73     38744\n",
      "weighted avg       0.91      0.90      0.90     38744\n",
      "\n"
     ]
    },
    {
     "name": "stderr",
     "output_type": "stream",
     "text": [
      "2024/10/23 17:45:53 WARNING mlflow.models.model: Model logged without a signature and input example. Please set `input_example` parameter when logging the model to auto infer the model signature.\n"
     ]
    }
   ],
   "source": [
    "# Decision Tree\n",
    "dt_fraud = DecisionTreeClassifier()\n",
    "train_and_evaluate_model(dt_fraud, X_fraud_train, y_fraud_train, X_fraud_test, y_fraud_test, \"Decision Tree\")"
   ]
  },
  {
   "cell_type": "code",
   "execution_count": 14,
   "metadata": {},
   "outputs": [
    {
     "name": "stdout",
     "output_type": "stream",
     "text": [
      "Performance of Decision Tree:\n",
      "              precision    recall  f1-score   support\n",
      "\n",
      "           0       1.00      1.00      1.00     84984\n",
      "           1       0.70      0.75      0.72       134\n",
      "\n",
      "    accuracy                           1.00     85118\n",
      "   macro avg       0.85      0.87      0.86     85118\n",
      "weighted avg       1.00      1.00      1.00     85118\n",
      "\n"
     ]
    },
    {
     "name": "stderr",
     "output_type": "stream",
     "text": [
      "2024/10/23 17:46:40 WARNING mlflow.models.model: Model logged without a signature and input example. Please set `input_example` parameter when logging the model to auto infer the model signature.\n"
     ]
    }
   ],
   "source": [
    "# Decision Tree\n",
    "dt_credit = DecisionTreeClassifier()\n",
    "train_and_evaluate_model(dt_credit, X_credit_train, y_credit_train, X_credit_test, y_credit_test, \"Decision Tree\")"
   ]
  },
  {
   "cell_type": "code",
   "execution_count": 15,
   "metadata": {},
   "outputs": [
    {
     "name": "stdout",
     "output_type": "stream",
     "text": [
      "Performance of Random Forest:\n",
      "              precision    recall  f1-score   support\n",
      "\n",
      "           0       1.00      1.00      1.00     84984\n",
      "           1       0.95      0.74      0.83       134\n",
      "\n",
      "    accuracy                           1.00     85118\n",
      "   macro avg       0.98      0.87      0.92     85118\n",
      "weighted avg       1.00      1.00      1.00     85118\n",
      "\n"
     ]
    },
    {
     "name": "stderr",
     "output_type": "stream",
     "text": [
      "2024/10/23 17:53:56 WARNING mlflow.models.model: Model logged without a signature and input example. Please set `input_example` parameter when logging the model to auto infer the model signature.\n"
     ]
    }
   ],
   "source": [
    "# Random Forest\n",
    "rf_credit = RandomForestClassifier()\n",
    "train_and_evaluate_model(rf_credit, X_credit_train, y_credit_train, X_credit_test, y_credit_test, \"Random Forest\")"
   ]
  },
  {
   "cell_type": "code",
   "execution_count": 16,
   "metadata": {},
   "outputs": [
    {
     "name": "stdout",
     "output_type": "stream",
     "text": [
      "Performance of Random Forest:\n",
      "              precision    recall  f1-score   support\n",
      "\n",
      "           0       0.95      1.00      0.98     35044\n",
      "           1       0.99      0.54      0.69      3700\n",
      "\n",
      "    accuracy                           0.95     38744\n",
      "   macro avg       0.97      0.77      0.83     38744\n",
      "weighted avg       0.96      0.95      0.95     38744\n",
      "\n"
     ]
    },
    {
     "name": "stderr",
     "output_type": "stream",
     "text": [
      "2024/10/23 17:55:41 WARNING mlflow.models.model: Model logged without a signature and input example. Please set `input_example` parameter when logging the model to auto infer the model signature.\n"
     ]
    }
   ],
   "source": [
    "# Random Forest\n",
    "rf_fraud = RandomForestClassifier()\n",
    "train_and_evaluate_model(rf_fraud, X_fraud_train, y_fraud_train, X_fraud_test, y_fraud_test, \"Random Forest\")"
   ]
  },
  {
   "cell_type": "code",
   "execution_count": 17,
   "metadata": {},
   "outputs": [
    {
     "name": "stdout",
     "output_type": "stream",
     "text": [
      "Performance of Gradient Boosting:\n",
      "              precision    recall  f1-score   support\n",
      "\n",
      "           0       0.91      1.00      0.95     35044\n",
      "           1       0.88      0.01      0.02      3700\n",
      "\n",
      "    accuracy                           0.91     38744\n",
      "   macro avg       0.89      0.50      0.49     38744\n",
      "weighted avg       0.90      0.91      0.86     38744\n",
      "\n"
     ]
    },
    {
     "name": "stderr",
     "output_type": "stream",
     "text": [
      "2024/10/23 17:57:03 WARNING mlflow.models.model: Model logged without a signature and input example. Please set `input_example` parameter when logging the model to auto infer the model signature.\n"
     ]
    }
   ],
   "source": [
    "# Gradient Boosting\n",
    "gb_fraud = GradientBoostingClassifier()\n",
    "train_and_evaluate_model(gb_fraud, X_fraud_train, y_fraud_train, X_fraud_test, y_fraud_test, \"Gradient Boosting\")"
   ]
  },
  {
   "cell_type": "code",
   "execution_count": 18,
   "metadata": {},
   "outputs": [
    {
     "name": "stdout",
     "output_type": "stream",
     "text": [
      "Performance of Gradient Boosting:\n",
      "              precision    recall  f1-score   support\n",
      "\n",
      "           0       1.00      1.00      1.00     84984\n",
      "           1       0.76      0.49      0.59       134\n",
      "\n",
      "    accuracy                           1.00     85118\n",
      "   macro avg       0.88      0.74      0.80     85118\n",
      "weighted avg       1.00      1.00      1.00     85118\n",
      "\n"
     ]
    },
    {
     "name": "stderr",
     "output_type": "stream",
     "text": [
      "2024/10/23 18:07:29 WARNING mlflow.models.model: Model logged without a signature and input example. Please set `input_example` parameter when logging the model to auto infer the model signature.\n"
     ]
    }
   ],
   "source": [
    "# Gradient Boosting\n",
    "gb_credit = GradientBoostingClassifier()\n",
    "train_and_evaluate_model(gb_credit,  X_credit_train, y_credit_train, X_credit_test, y_credit_test, \"Gradient Boosting\")"
   ]
  },
  {
   "cell_type": "code",
   "execution_count": 19,
   "metadata": {},
   "outputs": [
    {
     "name": "stdout",
     "output_type": "stream",
     "text": [
      "Performance of MLP:\n",
      "              precision    recall  f1-score   support\n",
      "\n",
      "           0       1.00      1.00      1.00     84984\n",
      "           1       0.37      0.71      0.48       134\n",
      "\n",
      "    accuracy                           1.00     85118\n",
      "   macro avg       0.68      0.85      0.74     85118\n",
      "weighted avg       1.00      1.00      1.00     85118\n",
      "\n"
     ]
    },
    {
     "name": "stderr",
     "output_type": "stream",
     "text": [
      "2024/10/23 18:08:53 WARNING mlflow.models.model: Model logged without a signature and input example. Please set `input_example` parameter when logging the model to auto infer the model signature.\n"
     ]
    }
   ],
   "source": [
    "# Multi-Layer Perceptron (MLP)\n",
    "mlp_credit = MLPClassifier()\n",
    "train_and_evaluate_model(mlp_credit, X_credit_train, y_credit_train, X_credit_test, y_credit_test, \"MLP\")"
   ]
  },
  {
   "cell_type": "code",
   "execution_count": 20,
   "metadata": {},
   "outputs": [
    {
     "name": "stdout",
     "output_type": "stream",
     "text": [
      "Performance of MLP:\n",
      "              precision    recall  f1-score   support\n",
      "\n",
      "           0       0.90      1.00      0.95     35044\n",
      "           1       0.00      0.00      0.00      3700\n",
      "\n",
      "    accuracy                           0.90     38744\n",
      "   macro avg       0.45      0.50      0.47     38744\n",
      "weighted avg       0.82      0.90      0.86     38744\n",
      "\n"
     ]
    },
    {
     "name": "stderr",
     "output_type": "stream",
     "text": [
      "c:\\Users\\Abdulaziz\\Desktop\\10 Academy\\Adey Innovations\\week8\\Lib\\site-packages\\sklearn\\metrics\\_classification.py:1531: UndefinedMetricWarning: Precision is ill-defined and being set to 0.0 in labels with no predicted samples. Use `zero_division` parameter to control this behavior.\n",
      "  _warn_prf(average, modifier, f\"{metric.capitalize()} is\", len(result))\n",
      "c:\\Users\\Abdulaziz\\Desktop\\10 Academy\\Adey Innovations\\week8\\Lib\\site-packages\\sklearn\\metrics\\_classification.py:1531: UndefinedMetricWarning: Precision is ill-defined and being set to 0.0 in labels with no predicted samples. Use `zero_division` parameter to control this behavior.\n",
      "  _warn_prf(average, modifier, f\"{metric.capitalize()} is\", len(result))\n",
      "c:\\Users\\Abdulaziz\\Desktop\\10 Academy\\Adey Innovations\\week8\\Lib\\site-packages\\sklearn\\metrics\\_classification.py:1531: UndefinedMetricWarning: Precision is ill-defined and being set to 0.0 in labels with no predicted samples. Use `zero_division` parameter to control this behavior.\n",
      "  _warn_prf(average, modifier, f\"{metric.capitalize()} is\", len(result))\n",
      "2024/10/23 18:09:41 WARNING mlflow.models.model: Model logged without a signature and input example. Please set `input_example` parameter when logging the model to auto infer the model signature.\n",
      "c:\\Users\\Abdulaziz\\Desktop\\10 Academy\\Adey Innovations\\week8\\Lib\\site-packages\\sklearn\\metrics\\_classification.py:1531: UndefinedMetricWarning: Precision is ill-defined and being set to 0.0 due to no predicted samples. Use `zero_division` parameter to control this behavior.\n",
      "  _warn_prf(average, modifier, f\"{metric.capitalize()} is\", len(result))\n"
     ]
    }
   ],
   "source": [
    "# Multi-Layer Perceptron (MLP)\n",
    "mlp_fraud = MLPClassifier()\n",
    "train_and_evaluate_model(mlp_fraud, X_fraud_train, y_fraud_train, X_fraud_test, y_fraud_test, \"MLP\")"
   ]
  },
  {
   "cell_type": "code",
   "execution_count": 21,
   "metadata": {},
   "outputs": [],
   "source": [
    "# Neural Network model architectures and training\n",
    "def train_nn_model(model, X_train, y_train, X_test, y_test, model_name):\n",
    "    model.compile(optimizer='adam', loss='binary_crossentropy', metrics=['accuracy'])\n",
    "    model.fit(X_train, y_train, epochs=10, batch_size=32, validation_data=(X_test, y_test))\n",
    "\n",
    "    # Log model and metrics with MLflow\n",
    "    with mlflow.start_run():\n",
    "        mlflow.keras.log_model(model, model_name)\n",
    "        loss, accuracy = model.evaluate(X_test, y_test)\n",
    "        mlflow.log_metric(\"accuracy\", accuracy)"
   ]
  },
  {
   "cell_type": "code",
   "execution_count": 22,
   "metadata": {},
   "outputs": [],
   "source": [
    "# Reshape data for CNN and RNN models\n",
    "X_fraud_train_cnn_rnn = X_fraud_train.values.reshape((X_fraud_train.shape[0], X_fraud_train.shape[1], 1))\n",
    "X_fraud_test_cnn_rnn = X_fraud_test.values.reshape((X_fraud_test.shape[0], X_fraud_test.shape[1], 1))\n",
    "X_credit_train_cnn_rnn = X_credit_train.values.reshape((X_credit_train.shape[0], X_credit_train.shape[1], 1))\n",
    "X_credit_test_cnn_rnn = X_credit_test.values.reshape((X_credit_test.shape[0], X_credit_test.shape[1], 1))"
   ]
  },
  {
   "cell_type": "code",
   "execution_count": 23,
   "metadata": {},
   "outputs": [
    {
     "name": "stderr",
     "output_type": "stream",
     "text": [
      "c:\\Users\\Abdulaziz\\Desktop\\10 Academy\\Adey Innovations\\week8\\Lib\\site-packages\\keras\\src\\layers\\convolutional\\base_conv.py:107: UserWarning: Do not pass an `input_shape`/`input_dim` argument to a layer. When using Sequential models, prefer using an `Input(shape)` object as the first layer in the model instead.\n",
      "  super().__init__(activity_regularizer=activity_regularizer, **kwargs)\n"
     ]
    },
    {
     "name": "stdout",
     "output_type": "stream",
     "text": [
      "Epoch 1/10\n",
      "\u001b[1m2826/2826\u001b[0m \u001b[32m━━━━━━━━━━━━━━━━━━━━\u001b[0m\u001b[37m\u001b[0m \u001b[1m123s\u001b[0m 38ms/step - accuracy: 0.8275 - loss: 1799898.6250 - val_accuracy: 0.9045 - val_loss: 13492.3994\n",
      "Epoch 2/10\n",
      "\u001b[1m2826/2826\u001b[0m \u001b[32m━━━━━━━━━━━━━━━━━━━━\u001b[0m\u001b[37m\u001b[0m \u001b[1m85s\u001b[0m 30ms/step - accuracy: 0.8271 - loss: 83090.2656 - val_accuracy: 0.9045 - val_loss: 3820.8132\n",
      "Epoch 3/10\n",
      "\u001b[1m2826/2826\u001b[0m \u001b[32m━━━━━━━━━━━━━━━━━━━━\u001b[0m\u001b[37m\u001b[0m \u001b[1m92s\u001b[0m 33ms/step - accuracy: 0.8374 - loss: 3000.2295 - val_accuracy: 0.9045 - val_loss: 0.3221\n",
      "Epoch 4/10\n",
      "\u001b[1m2826/2826\u001b[0m \u001b[32m━━━━━━━━━━━━━━━━━━━━\u001b[0m\u001b[37m\u001b[0m \u001b[1m89s\u001b[0m 31ms/step - accuracy: 0.9057 - loss: 0.3231 - val_accuracy: 0.9045 - val_loss: 0.3151\n",
      "Epoch 5/10\n",
      "\u001b[1m2826/2826\u001b[0m \u001b[32m━━━━━━━━━━━━━━━━━━━━\u001b[0m\u001b[37m\u001b[0m \u001b[1m90s\u001b[0m 32ms/step - accuracy: 0.9051 - loss: 0.3138 - val_accuracy: 0.9045 - val_loss: 0.3151\n",
      "Epoch 6/10\n",
      "\u001b[1m2826/2826\u001b[0m \u001b[32m━━━━━━━━━━━━━━━━━━━━\u001b[0m\u001b[37m\u001b[0m \u001b[1m94s\u001b[0m 33ms/step - accuracy: 0.9050 - loss: 0.3139 - val_accuracy: 0.9045 - val_loss: 0.3151\n",
      "Epoch 7/10\n",
      "\u001b[1m2826/2826\u001b[0m \u001b[32m━━━━━━━━━━━━━━━━━━━━\u001b[0m\u001b[37m\u001b[0m \u001b[1m96s\u001b[0m 34ms/step - accuracy: 0.9032 - loss: 0.3180 - val_accuracy: 0.9045 - val_loss: 0.3152\n",
      "Epoch 8/10\n",
      "\u001b[1m2826/2826\u001b[0m \u001b[32m━━━━━━━━━━━━━━━━━━━━\u001b[0m\u001b[37m\u001b[0m \u001b[1m98s\u001b[0m 35ms/step - accuracy: 0.9056 - loss: 0.3127 - val_accuracy: 0.9045 - val_loss: 0.3151\n",
      "Epoch 9/10\n",
      "\u001b[1m2826/2826\u001b[0m \u001b[32m━━━━━━━━━━━━━━━━━━━━\u001b[0m\u001b[37m\u001b[0m \u001b[1m140s\u001b[0m 34ms/step - accuracy: 0.9066 - loss: 0.3105 - val_accuracy: 0.9045 - val_loss: 0.3153\n",
      "Epoch 10/10\n",
      "\u001b[1m2826/2826\u001b[0m \u001b[32m━━━━━━━━━━━━━━━━━━━━\u001b[0m\u001b[37m\u001b[0m \u001b[1m101s\u001b[0m 36ms/step - accuracy: 0.9058 - loss: 0.3122 - val_accuracy: 0.9045 - val_loss: 0.3151\n"
     ]
    },
    {
     "name": "stderr",
     "output_type": "stream",
     "text": [
      "2024/10/23 18:27:04 WARNING mlflow.keras.save: You are saving a Keras model without specifying model signature.\n",
      "2024/10/23 18:28:48 WARNING mlflow.models.model: Model logged without a signature and input example. Please set `input_example` parameter when logging the model to auto infer the model signature.\n"
     ]
    },
    {
     "name": "stdout",
     "output_type": "stream",
     "text": [
      "\u001b[1m1211/1211\u001b[0m \u001b[32m━━━━━━━━━━━━━━━━━━━━\u001b[0m\u001b[37m\u001b[0m \u001b[1m8s\u001b[0m 7ms/step - accuracy: 0.9063 - loss: 0.3111\n"
     ]
    }
   ],
   "source": [
    "# CNN\n",
    "cnn_model_fraud = Sequential([\n",
    "    Conv1D(filters=64, kernel_size=2, activation='relu', input_shape=(X_fraud_train_cnn_rnn.shape[1], 1)),\n",
    "    MaxPooling1D(pool_size=2),\n",
    "    Flatten(),\n",
    "    Dense(100, activation='relu'),\n",
    "    Dense(1, activation='sigmoid')\n",
    "])\n",
    "train_nn_model(cnn_model_fraud, X_fraud_train_cnn_rnn, y_fraud_train, X_fraud_test_cnn_rnn, y_fraud_test, \"CNN\")"
   ]
  },
  {
   "cell_type": "code",
   "execution_count": 24,
   "metadata": {},
   "outputs": [
    {
     "name": "stdout",
     "output_type": "stream",
     "text": [
      "Epoch 1/10\n",
      "\u001b[1m6207/6207\u001b[0m \u001b[32m━━━━━━━━━━━━━━━━━━━━\u001b[0m\u001b[37m\u001b[0m \u001b[1m47s\u001b[0m 7ms/step - accuracy: 0.9943 - loss: 6.8250 - val_accuracy: 0.9991 - val_loss: 0.1440\n",
      "Epoch 2/10\n",
      "\u001b[1m6207/6207\u001b[0m \u001b[32m━━━━━━━━━━━━━━━━━━━━\u001b[0m\u001b[37m\u001b[0m \u001b[1m47s\u001b[0m 8ms/step - accuracy: 0.9984 - loss: 0.3182 - val_accuracy: 0.9990 - val_loss: 0.0318\n",
      "Epoch 3/10\n",
      "\u001b[1m6207/6207\u001b[0m \u001b[32m━━━━━━━━━━━━━━━━━━━━\u001b[0m\u001b[37m\u001b[0m \u001b[1m48s\u001b[0m 8ms/step - accuracy: 0.9990 - loss: 0.0247 - val_accuracy: 0.9994 - val_loss: 0.0186\n",
      "Epoch 4/10\n",
      "\u001b[1m6207/6207\u001b[0m \u001b[32m━━━━━━━━━━━━━━━━━━━━\u001b[0m\u001b[37m\u001b[0m \u001b[1m48s\u001b[0m 8ms/step - accuracy: 0.9991 - loss: 0.0232 - val_accuracy: 0.9990 - val_loss: 0.0058\n",
      "Epoch 5/10\n",
      "\u001b[1m6207/6207\u001b[0m \u001b[32m━━━━━━━━━━━━━━━━━━━━\u001b[0m\u001b[37m\u001b[0m \u001b[1m49s\u001b[0m 8ms/step - accuracy: 0.9992 - loss: 0.0096 - val_accuracy: 0.9993 - val_loss: 0.0077\n",
      "Epoch 6/10\n",
      "\u001b[1m6207/6207\u001b[0m \u001b[32m━━━━━━━━━━━━━━━━━━━━\u001b[0m\u001b[37m\u001b[0m \u001b[1m48s\u001b[0m 8ms/step - accuracy: 0.9991 - loss: 0.0101 - val_accuracy: 0.9994 - val_loss: 0.0045\n",
      "Epoch 7/10\n",
      "\u001b[1m6207/6207\u001b[0m \u001b[32m━━━━━━━━━━━━━━━━━━━━\u001b[0m\u001b[37m\u001b[0m \u001b[1m52s\u001b[0m 8ms/step - accuracy: 0.9991 - loss: 0.0061 - val_accuracy: 0.9993 - val_loss: 0.0194\n",
      "Epoch 8/10\n",
      "\u001b[1m6207/6207\u001b[0m \u001b[32m━━━━━━━━━━━━━━━━━━━━\u001b[0m\u001b[37m\u001b[0m \u001b[1m50s\u001b[0m 8ms/step - accuracy: 0.9991 - loss: 0.0145 - val_accuracy: 0.9995 - val_loss: 0.0036\n",
      "Epoch 9/10\n",
      "\u001b[1m6207/6207\u001b[0m \u001b[32m━━━━━━━━━━━━━━━━━━━━\u001b[0m\u001b[37m\u001b[0m \u001b[1m51s\u001b[0m 8ms/step - accuracy: 0.9991 - loss: 0.0069 - val_accuracy: 0.9994 - val_loss: 0.0035\n",
      "Epoch 10/10\n",
      "\u001b[1m6207/6207\u001b[0m \u001b[32m━━━━━━━━━━━━━━━━━━━━\u001b[0m\u001b[37m\u001b[0m \u001b[1m51s\u001b[0m 8ms/step - accuracy: 0.9992 - loss: 0.0050 - val_accuracy: 0.9994 - val_loss: 0.0032\n"
     ]
    },
    {
     "name": "stderr",
     "output_type": "stream",
     "text": [
      "2024/10/23 18:37:14 WARNING mlflow.keras.save: You are saving a Keras model without specifying model signature.\n",
      "2024/10/23 18:37:46 WARNING mlflow.models.model: Model logged without a signature and input example. Please set `input_example` parameter when logging the model to auto infer the model signature.\n"
     ]
    },
    {
     "name": "stdout",
     "output_type": "stream",
     "text": [
      "\u001b[1m2660/2660\u001b[0m \u001b[32m━━━━━━━━━━━━━━━━━━━━\u001b[0m\u001b[37m\u001b[0m \u001b[1m9s\u001b[0m 3ms/step - accuracy: 0.9994 - loss: 0.0030\n"
     ]
    }
   ],
   "source": [
    "# CNN Model\n",
    "cnn_model_credit = Sequential([\n",
    "    Conv1D(filters=64, kernel_size=2, activation='relu', input_shape=(X_credit_train_cnn_rnn.shape[1], 1)),\n",
    "    MaxPooling1D(pool_size=2),\n",
    "    Flatten(),\n",
    "    Dense(100, activation='relu'),\n",
    "    Dense(1, activation='sigmoid')\n",
    "])\n",
    "\n",
    "# Train and evaluate the CNN model\n",
    "train_nn_model(cnn_model_credit, X_credit_train_cnn_rnn, y_credit_train, X_credit_test_cnn_rnn, y_credit_test, \"CNN\")"
   ]
  },
  {
   "cell_type": "code",
   "execution_count": 25,
   "metadata": {},
   "outputs": [
    {
     "name": "stderr",
     "output_type": "stream",
     "text": [
      "c:\\Users\\Abdulaziz\\Desktop\\10 Academy\\Adey Innovations\\week8\\Lib\\site-packages\\keras\\src\\layers\\rnn\\rnn.py:204: UserWarning: Do not pass an `input_shape`/`input_dim` argument to a layer. When using Sequential models, prefer using an `Input(shape)` object as the first layer in the model instead.\n",
      "  super().__init__(**kwargs)\n"
     ]
    },
    {
     "name": "stdout",
     "output_type": "stream",
     "text": [
      "Epoch 1/10\n",
      "\u001b[1m2826/2826\u001b[0m \u001b[32m━━━━━━━━━━━━━━━━━━━━\u001b[0m\u001b[37m\u001b[0m \u001b[1m211s\u001b[0m 73ms/step - accuracy: 0.9040 - loss: 0.3584 - val_accuracy: 0.9045 - val_loss: 0.3151\n",
      "Epoch 2/10\n",
      "\u001b[1m2826/2826\u001b[0m \u001b[32m━━━━━━━━━━━━━━━━━━━━\u001b[0m\u001b[37m\u001b[0m \u001b[1m205s\u001b[0m 73ms/step - accuracy: 0.9052 - loss: 0.3147 - val_accuracy: 0.9045 - val_loss: 0.3157\n",
      "Epoch 3/10\n",
      "\u001b[1m2826/2826\u001b[0m \u001b[32m━━━━━━━━━━━━━━━━━━━━\u001b[0m\u001b[37m\u001b[0m \u001b[1m205s\u001b[0m 73ms/step - accuracy: 0.9059 - loss: 0.3128 - val_accuracy: 0.9045 - val_loss: 0.3167\n",
      "Epoch 4/10\n",
      "\u001b[1m2826/2826\u001b[0m \u001b[32m━━━━━━━━━━━━━━━━━━━━\u001b[0m\u001b[37m\u001b[0m \u001b[1m203s\u001b[0m 72ms/step - accuracy: 0.9051 - loss: 0.3148 - val_accuracy: 0.9045 - val_loss: 0.3157\n",
      "Epoch 5/10\n",
      "\u001b[1m2826/2826\u001b[0m \u001b[32m━━━━━━━━━━━━━━━━━━━━\u001b[0m\u001b[37m\u001b[0m \u001b[1m204s\u001b[0m 72ms/step - accuracy: 0.9041 - loss: 0.3169 - val_accuracy: 0.9045 - val_loss: 0.3151\n",
      "Epoch 6/10\n",
      "\u001b[1m2826/2826\u001b[0m \u001b[32m━━━━━━━━━━━━━━━━━━━━\u001b[0m\u001b[37m\u001b[0m \u001b[1m251s\u001b[0m 68ms/step - accuracy: 0.9046 - loss: 0.3155 - val_accuracy: 0.9045 - val_loss: 0.3151\n",
      "Epoch 7/10\n",
      "\u001b[1m2826/2826\u001b[0m \u001b[32m━━━━━━━━━━━━━━━━━━━━\u001b[0m\u001b[37m\u001b[0m \u001b[1m202s\u001b[0m 72ms/step - accuracy: 0.9045 - loss: 0.3158 - val_accuracy: 0.9045 - val_loss: 0.3151\n",
      "Epoch 8/10\n",
      "\u001b[1m2826/2826\u001b[0m \u001b[32m━━━━━━━━━━━━━━━━━━━━\u001b[0m\u001b[37m\u001b[0m \u001b[1m204s\u001b[0m 72ms/step - accuracy: 0.9038 - loss: 0.3172 - val_accuracy: 0.9045 - val_loss: 0.3154\n",
      "Epoch 9/10\n",
      "\u001b[1m2826/2826\u001b[0m \u001b[32m━━━━━━━━━━━━━━━━━━━━\u001b[0m\u001b[37m\u001b[0m \u001b[1m205s\u001b[0m 72ms/step - accuracy: 0.9063 - loss: 0.3115 - val_accuracy: 0.9045 - val_loss: 0.3158\n",
      "Epoch 10/10\n",
      "\u001b[1m2826/2826\u001b[0m \u001b[32m━━━━━━━━━━━━━━━━━━━━\u001b[0m\u001b[37m\u001b[0m \u001b[1m205s\u001b[0m 72ms/step - accuracy: 0.9034 - loss: 0.3179 - val_accuracy: 0.9045 - val_loss: 0.3161\n"
     ]
    },
    {
     "name": "stderr",
     "output_type": "stream",
     "text": [
      "2024/10/23 19:12:54 WARNING mlflow.keras.save: You are saving a Keras model without specifying model signature.\n",
      "2024/10/23 19:14:04 WARNING mlflow.models.model: Model logged without a signature and input example. Please set `input_example` parameter when logging the model to auto infer the model signature.\n"
     ]
    },
    {
     "name": "stdout",
     "output_type": "stream",
     "text": [
      "\u001b[1m1211/1211\u001b[0m \u001b[32m━━━━━━━━━━━━━━━━━━━━\u001b[0m\u001b[37m\u001b[0m \u001b[1m27s\u001b[0m 22ms/step - accuracy: 0.9063 - loss: 0.3118\n"
     ]
    }
   ],
   "source": [
    "# RNN\n",
    "rnn_model_fraud = Sequential([\n",
    "    SimpleRNN(100, activation='relu', input_shape=(X_fraud_train_cnn_rnn.shape[1], 1)),\n",
    "    Dense(1, activation='sigmoid')\n",
    "])\n",
    "train_nn_model(rnn_model_fraud, X_fraud_train_cnn_rnn, y_fraud_train, X_fraud_test_cnn_rnn, y_fraud_test, \"RNN\")"
   ]
  },
  {
   "cell_type": "code",
   "execution_count": 26,
   "metadata": {},
   "outputs": [
    {
     "name": "stdout",
     "output_type": "stream",
     "text": [
      "Epoch 1/10\n",
      "\u001b[1m2826/2826\u001b[0m \u001b[32m━━━━━━━━━━━━━━━━━━━━\u001b[0m\u001b[37m\u001b[0m \u001b[1m210s\u001b[0m 73ms/step - accuracy: 0.9014 - loss: 0.3624 - val_accuracy: 0.9045 - val_loss: 0.3160\n",
      "Epoch 2/10\n",
      "\u001b[1m2826/2826\u001b[0m \u001b[32m━━━━━━━━━━━━━━━━━━━━\u001b[0m\u001b[37m\u001b[0m \u001b[1m204s\u001b[0m 72ms/step - accuracy: 0.9046 - loss: 0.3156 - val_accuracy: 0.9045 - val_loss: 0.3151\n",
      "Epoch 3/10\n",
      "\u001b[1m2826/2826\u001b[0m \u001b[32m━━━━━━━━━━━━━━━━━━━━\u001b[0m\u001b[37m\u001b[0m \u001b[1m204s\u001b[0m 72ms/step - accuracy: 0.9047 - loss: 0.3154 - val_accuracy: 0.9045 - val_loss: 0.3153\n",
      "Epoch 4/10\n",
      "\u001b[1m2826/2826\u001b[0m \u001b[32m━━━━━━━━━━━━━━━━━━━━\u001b[0m\u001b[37m\u001b[0m \u001b[1m211s\u001b[0m 75ms/step - accuracy: 0.9064 - loss: 0.3120 - val_accuracy: 0.9045 - val_loss: 0.3156\n",
      "Epoch 5/10\n",
      "\u001b[1m2826/2826\u001b[0m \u001b[32m━━━━━━━━━━━━━━━━━━━━\u001b[0m\u001b[37m\u001b[0m \u001b[1m203s\u001b[0m 72ms/step - accuracy: 0.9043 - loss: 0.3166 - val_accuracy: 0.9045 - val_loss: 0.3151\n",
      "Epoch 6/10\n",
      "\u001b[1m2826/2826\u001b[0m \u001b[32m━━━━━━━━━━━━━━━━━━━━\u001b[0m\u001b[37m\u001b[0m \u001b[1m203s\u001b[0m 72ms/step - accuracy: 0.9042 - loss: 0.3164 - val_accuracy: 0.9045 - val_loss: 0.3153\n",
      "Epoch 7/10\n",
      "\u001b[1m2826/2826\u001b[0m \u001b[32m━━━━━━━━━━━━━━━━━━━━\u001b[0m\u001b[37m\u001b[0m \u001b[1m200s\u001b[0m 71ms/step - accuracy: 0.9052 - loss: 0.3142 - val_accuracy: 0.9045 - val_loss: 0.3151\n",
      "Epoch 8/10\n",
      "\u001b[1m2826/2826\u001b[0m \u001b[32m━━━━━━━━━━━━━━━━━━━━\u001b[0m\u001b[37m\u001b[0m \u001b[1m198s\u001b[0m 70ms/step - accuracy: 0.9074 - loss: 0.3091 - val_accuracy: 0.9045 - val_loss: 0.3151\n",
      "Epoch 9/10\n",
      "\u001b[1m2826/2826\u001b[0m \u001b[32m━━━━━━━━━━━━━━━━━━━━\u001b[0m\u001b[37m\u001b[0m \u001b[1m202s\u001b[0m 71ms/step - accuracy: 0.9043 - loss: 0.3160 - val_accuracy: 0.9045 - val_loss: 0.3151\n",
      "Epoch 10/10\n",
      "\u001b[1m2826/2826\u001b[0m \u001b[32m━━━━━━━━━━━━━━━━━━━━\u001b[0m\u001b[37m\u001b[0m \u001b[1m200s\u001b[0m 71ms/step - accuracy: 0.9059 - loss: 0.3122 - val_accuracy: 0.9045 - val_loss: 0.3151\n"
     ]
    },
    {
     "name": "stderr",
     "output_type": "stream",
     "text": [
      "2024/10/23 19:48:27 WARNING mlflow.keras.save: You are saving a Keras model without specifying model signature.\n",
      "2024/10/23 19:49:33 WARNING mlflow.models.model: Model logged without a signature and input example. Please set `input_example` parameter when logging the model to auto infer the model signature.\n"
     ]
    },
    {
     "name": "stdout",
     "output_type": "stream",
     "text": [
      "\u001b[1m1211/1211\u001b[0m \u001b[32m━━━━━━━━━━━━━━━━━━━━\u001b[0m\u001b[37m\u001b[0m \u001b[1m27s\u001b[0m 22ms/step - accuracy: 0.9063 - loss: 0.3110\n"
     ]
    }
   ],
   "source": [
    "# RNN Model\n",
    "rnn_model_credit = Sequential([\n",
    "    SimpleRNN(100, activation='relu', input_shape=(X_fraud_train_cnn_rnn.shape[1], 1)),\n",
    "    Dense(1, activation='sigmoid')\n",
    "])\n",
    "\n",
    "# Train and evaluate the RNN model using reshaped fraud data\n",
    "train_nn_model(rnn_model_credit, X_fraud_train_cnn_rnn, y_fraud_train, X_fraud_test_cnn_rnn, y_fraud_test, \"RNN\")"
   ]
  },
  {
   "cell_type": "code",
   "execution_count": 27,
   "metadata": {},
   "outputs": [
    {
     "name": "stdout",
     "output_type": "stream",
     "text": [
      "Epoch 1/10\n",
      "\u001b[1m6207/6207\u001b[0m \u001b[32m━━━━━━━━━━━━━━━━━━━━\u001b[0m\u001b[37m\u001b[0m \u001b[1m197s\u001b[0m 31ms/step - accuracy: 0.9572 - loss: 47.2489 - val_accuracy: 0.9984 - val_loss: 0.1125\n",
      "Epoch 2/10\n",
      "\u001b[1m6207/6207\u001b[0m \u001b[32m━━━━━━━━━━━━━━━━━━━━\u001b[0m\u001b[37m\u001b[0m \u001b[1m189s\u001b[0m 30ms/step - accuracy: 0.9954 - loss: 37.9891 - val_accuracy: 0.9984 - val_loss: 155.1720\n",
      "Epoch 3/10\n",
      "\u001b[1m6207/6207\u001b[0m \u001b[32m━━━━━━━━━━━━━━━━━━━━\u001b[0m\u001b[37m\u001b[0m \u001b[1m193s\u001b[0m 31ms/step - accuracy: 0.9963 - loss: 36.2267 - val_accuracy: 0.9984 - val_loss: 2.0894\n",
      "Epoch 4/10\n",
      "\u001b[1m6207/6207\u001b[0m \u001b[32m━━━━━━━━━━━━━━━━━━━━\u001b[0m\u001b[37m\u001b[0m \u001b[1m192s\u001b[0m 31ms/step - accuracy: 0.9959 - loss: 8.7120 - val_accuracy: 0.9984 - val_loss: 11.3192\n",
      "Epoch 5/10\n",
      "\u001b[1m6207/6207\u001b[0m \u001b[32m━━━━━━━━━━━━━━━━━━━━\u001b[0m\u001b[37m\u001b[0m \u001b[1m201s\u001b[0m 32ms/step - accuracy: 0.9963 - loss: 33.7974 - val_accuracy: 0.9984 - val_loss: 83.7473\n",
      "Epoch 6/10\n",
      "\u001b[1m6207/6207\u001b[0m \u001b[32m━━━━━━━━━━━━━━━━━━━━\u001b[0m\u001b[37m\u001b[0m \u001b[1m192s\u001b[0m 31ms/step - accuracy: 0.9937 - loss: 139.8244 - val_accuracy: 0.9983 - val_loss: 14.9109\n",
      "Epoch 7/10\n",
      "\u001b[1m6207/6207\u001b[0m \u001b[32m━━━━━━━━━━━━━━━━━━━━\u001b[0m\u001b[37m\u001b[0m \u001b[1m196s\u001b[0m 32ms/step - accuracy: 0.9951 - loss: 37.5117 - val_accuracy: 0.9984 - val_loss: 40.1457\n",
      "Epoch 8/10\n",
      "\u001b[1m6207/6207\u001b[0m \u001b[32m━━━━━━━━━━━━━━━━━━━━\u001b[0m\u001b[37m\u001b[0m \u001b[1m192s\u001b[0m 31ms/step - accuracy: 0.9959 - loss: 22.5216 - val_accuracy: 0.9984 - val_loss: 4.6340\n",
      "Epoch 9/10\n",
      "\u001b[1m6207/6207\u001b[0m \u001b[32m━━━━━━━━━━━━━━━━━━━━\u001b[0m\u001b[37m\u001b[0m \u001b[1m193s\u001b[0m 31ms/step - accuracy: 0.9965 - loss: 5.7304 - val_accuracy: 0.9972 - val_loss: 2.9435\n",
      "Epoch 10/10\n",
      "\u001b[1m6207/6207\u001b[0m \u001b[32m━━━━━━━━━━━━━━━━━━━━\u001b[0m\u001b[37m\u001b[0m \u001b[1m192s\u001b[0m 31ms/step - accuracy: 0.9949 - loss: 37.1908 - val_accuracy: 0.9984 - val_loss: 68.5818\n"
     ]
    },
    {
     "name": "stderr",
     "output_type": "stream",
     "text": [
      "2024/10/23 20:22:22 WARNING mlflow.keras.save: You are saving a Keras model without specifying model signature.\n",
      "2024/10/23 20:23:27 WARNING mlflow.models.model: Model logged without a signature and input example. Please set `input_example` parameter when logging the model to auto infer the model signature.\n"
     ]
    },
    {
     "name": "stdout",
     "output_type": "stream",
     "text": [
      "\u001b[1m2660/2660\u001b[0m \u001b[32m━━━━━━━━━━━━━━━━━━━━\u001b[0m\u001b[37m\u001b[0m \u001b[1m28s\u001b[0m 10ms/step - accuracy: 0.9984 - loss: 68.9116\n"
     ]
    }
   ],
   "source": [
    "# LSTM\n",
    "lstm_model_credit = Sequential([\n",
    "    LSTM(100, activation='relu', input_shape=(X_credit_train_cnn_rnn.shape[1], 1)),\n",
    "    Dense(1, activation='sigmoid')\n",
    "])\n",
    "train_nn_model(lstm_model_credit, X_credit_train_cnn_rnn, y_credit_train, X_credit_test_cnn_rnn, y_credit_test, \"LSTM\")"
   ]
  },
  {
   "cell_type": "code",
   "execution_count": 28,
   "metadata": {},
   "outputs": [
    {
     "name": "stdout",
     "output_type": "stream",
     "text": [
      "Epoch 1/10\n",
      "\u001b[1m2826/2826\u001b[0m \u001b[32m━━━━━━━━━━━━━━━━━━━━\u001b[0m\u001b[37m\u001b[0m \u001b[1m571s\u001b[0m 200ms/step - accuracy: 0.6992 - loss: 344711397376.0000 - val_accuracy: 0.0955 - val_loss: 178050.0156\n",
      "Epoch 2/10\n",
      "\u001b[1m2826/2826\u001b[0m \u001b[32m━━━━━━━━━━━━━━━━━━━━\u001b[0m\u001b[37m\u001b[0m \u001b[1m615s\u001b[0m 198ms/step - accuracy: 0.8234 - loss: 111136.1016 - val_accuracy: 0.9045 - val_loss: 238644.4688\n",
      "Epoch 3/10\n",
      "\u001b[1m2826/2826\u001b[0m \u001b[32m━━━━━━━━━━━━━━━━━━━━\u001b[0m\u001b[37m\u001b[0m \u001b[1m558s\u001b[0m 197ms/step - accuracy: 0.8149 - loss: 140065264.0000 - val_accuracy: 0.9045 - val_loss: 17603.2930\n",
      "Epoch 4/10\n",
      "\u001b[1m2826/2826\u001b[0m \u001b[32m━━━━━━━━━━━━━━━━━━━━\u001b[0m\u001b[37m\u001b[0m \u001b[1m551s\u001b[0m 195ms/step - accuracy: 0.8192 - loss: 4013503.5000 - val_accuracy: 0.9045 - val_loss: 270101.3125\n",
      "Epoch 5/10\n",
      "\u001b[1m2826/2826\u001b[0m \u001b[32m━━━━━━━━━━━━━━━━━━━━\u001b[0m\u001b[37m\u001b[0m \u001b[1m537s\u001b[0m 190ms/step - accuracy: 0.8280 - loss: 133066.8594 - val_accuracy: 0.0955 - val_loss: 625788.7500\n",
      "Epoch 6/10\n",
      "\u001b[1m2826/2826\u001b[0m \u001b[32m━━━━━━━━━━━━━━━━━━━━\u001b[0m\u001b[37m\u001b[0m \u001b[1m537s\u001b[0m 190ms/step - accuracy: 0.8155 - loss: 31996768.0000 - val_accuracy: 0.9045 - val_loss: 34856852.0000\n",
      "Epoch 7/10\n",
      "\u001b[1m2826/2826\u001b[0m \u001b[32m━━━━━━━━━━━━━━━━━━━━\u001b[0m\u001b[37m\u001b[0m \u001b[1m534s\u001b[0m 189ms/step - accuracy: 0.8284 - loss: 9366419.0000 - val_accuracy: 0.9045 - val_loss: 138748.5781\n",
      "Epoch 8/10\n",
      "\u001b[1m2826/2826\u001b[0m \u001b[32m━━━━━━━━━━━━━━━━━━━━\u001b[0m\u001b[37m\u001b[0m \u001b[1m529s\u001b[0m 187ms/step - accuracy: 0.8328 - loss: 19671490.0000 - val_accuracy: 0.9045 - val_loss: 99552432.0000\n",
      "Epoch 9/10\n",
      "\u001b[1m2826/2826\u001b[0m \u001b[32m━━━━━━━━━━━━━━━━━━━━\u001b[0m\u001b[37m\u001b[0m \u001b[1m537s\u001b[0m 190ms/step - accuracy: 0.8301 - loss: 2116753.2500 - val_accuracy: 0.9045 - val_loss: 21090.9297\n",
      "Epoch 10/10\n",
      "\u001b[1m2826/2826\u001b[0m \u001b[32m━━━━━━━━━━━━━━━━━━━━\u001b[0m\u001b[37m\u001b[0m \u001b[1m552s\u001b[0m 195ms/step - accuracy: 0.8281 - loss: 105952.4609 - val_accuracy: 0.9045 - val_loss: 9309.6416\n"
     ]
    },
    {
     "name": "stderr",
     "output_type": "stream",
     "text": [
      "2024/10/23 21:56:05 WARNING mlflow.keras.save: You are saving a Keras model without specifying model signature.\n",
      "2024/10/23 21:57:28 WARNING mlflow.models.model: Model logged without a signature and input example. Please set `input_example` parameter when logging the model to auto infer the model signature.\n"
     ]
    },
    {
     "name": "stdout",
     "output_type": "stream",
     "text": [
      "\u001b[1m1211/1211\u001b[0m \u001b[32m━━━━━━━━━━━━━━━━━━━━\u001b[0m\u001b[37m\u001b[0m \u001b[1m77s\u001b[0m 63ms/step - accuracy: 0.9063 - loss: 9114.0830\n"
     ]
    }
   ],
   "source": [
    "# LSTM Model\n",
    "lstm_model_fraud = Sequential([\n",
    "    LSTM(100, activation='relu', input_shape=(X_fraud_train_cnn_rnn.shape[1], 1)),\n",
    "    Dense(1, activation='sigmoid')\n",
    "])\n",
    "\n",
    "# Train and evaluate the LSTM model using reshaped fraud data\n",
    "train_nn_model(lstm_model_fraud, X_fraud_train_cnn_rnn, y_fraud_train, X_fraud_test_cnn_rnn, y_fraud_test, \"LSTM\")"
   ]
  }
 ],
 "metadata": {
  "kernelspec": {
   "display_name": "week8",
   "language": "python",
   "name": "python3"
  },
  "language_info": {
   "codemirror_mode": {
    "name": "ipython",
    "version": 3
   },
   "file_extension": ".py",
   "mimetype": "text/x-python",
   "name": "python",
   "nbconvert_exporter": "python",
   "pygments_lexer": "ipython3",
   "version": "3.12.5"
  }
 },
 "nbformat": 4,
 "nbformat_minor": 2
}
